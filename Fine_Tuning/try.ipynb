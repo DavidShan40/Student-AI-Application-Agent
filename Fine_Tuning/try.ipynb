{
 "cells": [
  {
   "cell_type": "markdown",
   "metadata": {},
   "source": [
    "guide: https://platform.openai.com/docs/guides/fine-tuning/create-a-fine-tuned-model"
   ]
  },
  {
   "cell_type": "code",
   "execution_count": 33,
   "metadata": {},
   "outputs": [],
   "source": [
    "from openai import OpenAI\n",
    "is_train = True # if finish train or not"
   ]
  },
  {
   "cell_type": "code",
   "execution_count": 34,
   "metadata": {},
   "outputs": [],
   "source": [
    "client = OpenAI()\n",
    "\n",
    "if is_train != True:\n",
    "    client.files.create(\n",
    "      file=open(\"try_chatbot_dataset.jsonl\", \"rb\"),\n",
    "      purpose=\"fine-tune\"\n",
    "    )"
   ]
  },
  {
   "cell_type": "code",
   "execution_count": 35,
   "metadata": {},
   "outputs": [],
   "source": [
    "# training file ID is from Openai/Stroage\n",
    "if is_train != True:\n",
    "    train_id = \"file-6dv8rQjXOF6Als8TfOFuubn7\"\n",
    "\n",
    "    client.fine_tuning.jobs.create(\n",
    "      training_file=train_id, \n",
    "      model=\"gpt-3.5-turbo\",\n",
    "      hyperparameters={\n",
    "        \"n_epochs\":3\n",
    "      }\n",
    "    )"
   ]
  },
  {
   "cell_type": "code",
   "execution_count": 36,
   "metadata": {},
   "outputs": [],
   "source": [
    "# training file ID is from Openai/Finetuning, or email notification\n",
    "job_id = \"ftjob-fhaC9kOTuhc0WkuakzVodlLt\""
   ]
  },
  {
   "cell_type": "code",
   "execution_count": 37,
   "metadata": {},
   "outputs": [
    {
     "data": {
      "text/plain": [
       "SyncCursorPage[FineTuningJob](data=[FineTuningJob(id='ftjob-fhaC9kOTuhc0WkuakzVodlLt', created_at=1711120285, error=Error(code=None, message=None, param=None, error=None), fine_tuned_model='ft:gpt-3.5-turbo-0125:personal::95avaTvu', finished_at=1711120617, hyperparameters=Hyperparameters(n_epochs=3, batch_size=1, learning_rate_multiplier=2), model='gpt-3.5-turbo-0125', object='fine_tuning.job', organization_id='org-lKEXvKfbqI36IN4JSf7erifh', result_files=['file-Z1dFUehBzs0bkP8y2W1LQtil'], status='succeeded', trained_tokens=3348, training_file='file-6dv8rQjXOF6Als8TfOFuubn7', validation_file=None, user_provided_suffix=None)], object='list', has_more=False)"
      ]
     },
     "execution_count": 37,
     "metadata": {},
     "output_type": "execute_result"
    }
   ],
   "source": [
    "client.fine_tuning.jobs.list(limit=10)"
   ]
  },
  {
   "cell_type": "code",
   "execution_count": 38,
   "metadata": {},
   "outputs": [
    {
     "data": {
      "text/plain": [
       "FineTuningJob(id='ftjob-fhaC9kOTuhc0WkuakzVodlLt', created_at=1711120285, error=Error(code=None, message=None, param=None, error=None), fine_tuned_model='ft:gpt-3.5-turbo-0125:personal::95avaTvu', finished_at=1711120617, hyperparameters=Hyperparameters(n_epochs=3, batch_size=1, learning_rate_multiplier=2), model='gpt-3.5-turbo-0125', object='fine_tuning.job', organization_id='org-lKEXvKfbqI36IN4JSf7erifh', result_files=['file-Z1dFUehBzs0bkP8y2W1LQtil'], status='succeeded', trained_tokens=3348, training_file='file-6dv8rQjXOF6Als8TfOFuubn7', validation_file=None, user_provided_suffix=None)"
      ]
     },
     "execution_count": 38,
     "metadata": {},
     "output_type": "execute_result"
    }
   ],
   "source": [
    "client.fine_tuning.jobs.retrieve(job_id)"
   ]
  },
  {
   "cell_type": "code",
   "execution_count": 39,
   "metadata": {},
   "outputs": [],
   "source": [
    "# client.fine_tuning.jobs.cancel(model_id) # cancel fine-tuning jobs in progress"
   ]
  },
  {
   "cell_type": "code",
   "execution_count": 40,
   "metadata": {},
   "outputs": [
    {
     "data": {
      "text/plain": [
       "SyncCursorPage[FineTuningJobEvent](data=[FineTuningJobEvent(id='ftevent-xUmHRFDLSUL118jZeBw6QHE0', created_at=1711120620, level='info', message='The job has successfully completed', object='fine_tuning.job.event', data={}, type='message'), FineTuningJobEvent(id='ftevent-qqBaYUUJa34tZtJW0VmGd5L3', created_at=1711120618, level='info', message='New fine-tuned model created: ft:gpt-3.5-turbo-0125:personal::95avaTvu', object='fine_tuning.job.event', data={}, type='message'), FineTuningJobEvent(id='ftevent-GrRiaRVw929HgVGLx5O8xLhO', created_at=1711120612, level='info', message='Step 75/75: training loss=0.95', object='fine_tuning.job.event', data={'step': 75, 'train_loss': 0.9473623037338257, 'total_steps': 75, 'train_mean_token_accuracy': 0.7692307829856873}, type='metrics'), FineTuningJobEvent(id='ftevent-7fcksJjosZsNGNn3IP94aTzB', created_at=1711120609, level='info', message='Step 74/75: training loss=1.05', object='fine_tuning.job.event', data={'step': 74, 'train_loss': 1.046798825263977, 'total_steps': 75, 'train_mean_token_accuracy': 0.6428571343421936}, type='metrics'), FineTuningJobEvent(id='ftevent-UpEneXrsEdYU1K3ce8z5m6oz', created_at=1711120605, level='info', message='Step 73/75: training loss=1.43', object='fine_tuning.job.event', data={'step': 73, 'train_loss': 1.4288698434829712, 'total_steps': 75, 'train_mean_token_accuracy': 0.5333333611488342}, type='metrics'), FineTuningJobEvent(id='ftevent-0iNcsF15I1rHQwmjTZr7irgj', created_at=1711120602, level='info', message='Step 72/75: training loss=1.81', object='fine_tuning.job.event', data={'step': 72, 'train_loss': 1.8117737770080566, 'total_steps': 75, 'train_mean_token_accuracy': 0.5384615659713745}, type='metrics'), FineTuningJobEvent(id='ftevent-0aGkorwHhkHk5lU8ObQTGM6O', created_at=1711120600, level='info', message='Step 71/75: training loss=0.37', object='fine_tuning.job.event', data={'step': 71, 'train_loss': 0.37052610516548157, 'total_steps': 75, 'train_mean_token_accuracy': 0.9444444179534912}, type='metrics'), FineTuningJobEvent(id='ftevent-xjoog9mbVHDVfVdWV2Ic2KYM', created_at=1711120598, level='info', message='Step 70/75: training loss=0.97', object='fine_tuning.job.event', data={'step': 70, 'train_loss': 0.9685848951339722, 'total_steps': 75, 'train_mean_token_accuracy': 0.6666666865348816}, type='metrics'), FineTuningJobEvent(id='ftevent-0kfOGb8xp2R5Mc3icAQ0EJFi', created_at=1711120595, level='info', message='Step 69/75: training loss=1.50', object='fine_tuning.job.event', data={'step': 69, 'train_loss': 1.4986385107040405, 'total_steps': 75, 'train_mean_token_accuracy': 0.7333333492279053}, type='metrics'), FineTuningJobEvent(id='ftevent-WS8UonXdPwiuYGnuF43XVwCH', created_at=1711120593, level='info', message='Step 68/75: training loss=2.22', object='fine_tuning.job.event', data={'step': 68, 'train_loss': 2.222221851348877, 'total_steps': 75, 'train_mean_token_accuracy': 0.4615384638309479}, type='metrics')], object='list', has_more=True)"
      ]
     },
     "execution_count": 40,
     "metadata": {},
     "output_type": "execute_result"
    }
   ],
   "source": [
    "client.fine_tuning.jobs.list_events(fine_tuning_job_id=job_id, limit=10)"
   ]
  },
  {
   "cell_type": "code",
   "execution_count": 41,
   "metadata": {},
   "outputs": [],
   "source": [
    "# Delete a fine-tuned model (must be an owner of the org the model was created in)\n",
    "# client.models.delete(\"ft:gpt-3.5-turbo:acemeco:suffix:abc123\")"
   ]
  },
  {
   "cell_type": "code",
   "execution_count": 43,
   "metadata": {},
   "outputs": [],
   "source": [
    "# if old version, migration using https://app.grit.io/migrations/new/openai_global"
   ]
  }
 ],
 "metadata": {
  "kernelspec": {
   "display_name": "Python 3",
   "language": "python",
   "name": "python3"
  },
  "language_info": {
   "codemirror_mode": {
    "name": "ipython",
    "version": 3
   },
   "file_extension": ".py",
   "mimetype": "text/x-python",
   "name": "python",
   "nbconvert_exporter": "python",
   "pygments_lexer": "ipython3",
   "version": "3.12.0"
  }
 },
 "nbformat": 4,
 "nbformat_minor": 2
}
